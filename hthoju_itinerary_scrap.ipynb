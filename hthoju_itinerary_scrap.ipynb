{
  "cells": [
    {
      "cell_type": "markdown",
      "metadata": {
        "id": "x4nPhhbc4Gzj"
      },
      "source": [
        "## 처음 켯을때 이거 돌려주시고 하고나서 요코드 전부 선택하고 ctrl + / 해주세요. 돌릴때 앞에 샾이 있으면 코드가 안돌아가니 ctrl + / 해주시고 돌아갔으면 다시 ctrl + / 해서 # 있는상태로 돌려주세요"
      ]
    },
    {
      "cell_type": "code",
      "execution_count": null,
      "metadata": {
        "colab": {
          "base_uri": "https://localhost:8080/"
        },
        "id": "9MGJhPvC4Dky",
        "outputId": "c60efeaf-7321-4c47-dcd1-5b45c2f62475"
      },
      "outputs": [
        {
          "name": "stdout",
          "output_type": "stream",
          "text": [
            "Collecting playwright\n",
            "  Downloading playwright-1.39.0-py3-none-manylinux1_x86_64.whl (35.5 MB)\n",
            "\u001b[2K     \u001b[90m━━━━━━━━━━━━━━━━━━━━━━━━━━━━━━━━━━━━━━━━\u001b[0m \u001b[32m35.5/35.5 MB\u001b[0m \u001b[31m43.5 MB/s\u001b[0m eta \u001b[36m0:00:00\u001b[0m\n",
            "\u001b[?25hRequirement already satisfied: greenlet==3.0.0 in /usr/local/lib/python3.10/dist-packages (from playwright) (3.0.0)\n",
            "Collecting pyee==11.0.1 (from playwright)\n",
            "  Downloading pyee-11.0.1-py3-none-any.whl (15 kB)\n",
            "Requirement already satisfied: typing-extensions in /usr/local/lib/python3.10/dist-packages (from pyee==11.0.1->playwright) (4.5.0)\n",
            "Installing collected packages: pyee, playwright\n",
            "Successfully installed playwright-1.39.0 pyee-11.0.1\n",
            "Downloading Chromium 119.0.6045.9 (playwright build v1084)\u001b[2m from https://playwright.azureedge.net/builds/chromium/1084/chromium-linux.zip\u001b[22m\n",
            "\u001b[1G155.8 Mb [] 0% 0.0s\u001b[0K\u001b[1G155.8 Mb [] 0% 34.1s\u001b[0K\u001b[1G155.8 Mb [] 0% 17.6s\u001b[0K\u001b[1G155.8 Mb [] 0% 11.2s\u001b[0K\u001b[1G155.8 Mb [] 0% 6.9s\u001b[0K\u001b[1G155.8 Mb [] 1% 5.7s\u001b[0K\u001b[1G155.8 Mb [] 1% 5.2s\u001b[0K\u001b[1G155.8 Mb [] 2% 4.4s\u001b[0K\u001b[1G155.8 Mb [] 3% 4.1s\u001b[0K\u001b[1G155.8 Mb [] 3% 3.8s\u001b[0K\u001b[1G155.8 Mb [] 4% 4.2s\u001b[0K\u001b[1G155.8 Mb [] 4% 3.7s\u001b[0K\u001b[1G155.8 Mb [] 5% 3.5s\u001b[0K\u001b[1G155.8 Mb [] 6% 3.4s\u001b[0K\u001b[1G155.8 Mb [] 7% 3.2s\u001b[0K\u001b[1G155.8 Mb [] 7% 3.1s\u001b[0K\u001b[1G155.8 Mb [] 8% 2.9s\u001b[0K\u001b[1G155.8 Mb [] 8% 3.0s\u001b[0K\u001b[1G155.8 Mb [] 9% 3.1s\u001b[0K\u001b[1G155.8 Mb [] 9% 3.0s\u001b[0K\u001b[1G155.8 Mb [] 10% 2.9s\u001b[0K\u001b[1G155.8 Mb [] 10% 3.1s\u001b[0K\u001b[1G155.8 Mb [] 11% 2.9s\u001b[0K\u001b[1G155.8 Mb [] 12% 2.8s\u001b[0K\u001b[1G155.8 Mb [] 13% 2.8s\u001b[0K\u001b[1G155.8 Mb [] 14% 2.7s\u001b[0K\u001b[1G155.8 Mb [] 15% 2.7s\u001b[0K\u001b[1G155.8 Mb [] 16% 2.7s\u001b[0K\u001b[1G155.8 Mb [] 17% 2.7s\u001b[0K\u001b[1G155.8 Mb [] 18% 2.6s\u001b[0K\u001b[1G155.8 Mb [] 19% 2.6s\u001b[0K\u001b[1G155.8 Mb [] 20% 2.5s\u001b[0K\u001b[1G155.8 Mb [] 21% 2.5s\u001b[0K\u001b[1G155.8 Mb [] 22% 2.4s\u001b[0K\u001b[1G155.8 Mb [] 23% 2.3s\u001b[0K\u001b[1G155.8 Mb [] 24% 2.3s\u001b[0K\u001b[1G155.8 Mb [] 26% 2.2s\u001b[0K\u001b[1G155.8 Mb [] 27% 2.2s\u001b[0K\u001b[1G155.8 Mb [] 28% 2.1s\u001b[0K\u001b[1G155.8 Mb [] 28% 2.2s\u001b[0K\u001b[1G155.8 Mb [] 28% 2.3s\u001b[0K\u001b[1G155.8 Mb [] 29% 2.3s\u001b[0K\u001b[1G155.8 Mb [] 30% 2.3s\u001b[0K\u001b[1G155.8 Mb [] 31% 2.2s\u001b[0K\u001b[1G155.8 Mb [] 32% 2.1s\u001b[0K\u001b[1G155.8 Mb [] 33% 2.1s\u001b[0K\u001b[1G155.8 Mb [] 34% 2.1s\u001b[0K\u001b[1G155.8 Mb [] 35% 2.0s\u001b[0K\u001b[1G155.8 Mb [] 36% 2.0s\u001b[0K\u001b[1G155.8 Mb [] 37% 1.9s\u001b[0K\u001b[1G155.8 Mb [] 38% 1.9s\u001b[0K\u001b[1G155.8 Mb [] 39% 1.9s\u001b[0K\u001b[1G155.8 Mb [] 39% 1.8s\u001b[0K\u001b[1G155.8 Mb [] 40% 1.8s\u001b[0K\u001b[1G155.8 Mb [] 41% 1.8s\u001b[0K\u001b[1G155.8 Mb [] 43% 1.7s\u001b[0K\u001b[1G155.8 Mb [] 44% 1.7s\u001b[0K\u001b[1G155.8 Mb [] 45% 1.6s\u001b[0K\u001b[1G155.8 Mb [] 46% 1.6s\u001b[0K\u001b[1G155.8 Mb [] 47% 1.5s\u001b[0K\u001b[1G155.8 Mb [] 49% 1.5s\u001b[0K\u001b[1G155.8 Mb [] 50% 1.4s\u001b[0K\u001b[1G155.8 Mb [] 51% 1.4s\u001b[0K\u001b[1G155.8 Mb [] 52% 1.4s\u001b[0K\u001b[1G155.8 Mb [] 53% 1.3s\u001b[0K\u001b[1G155.8 Mb [] 54% 1.3s\u001b[0K\u001b[1G155.8 Mb [] 55% 1.3s\u001b[0K\u001b[1G155.8 Mb [] 56% 1.3s\u001b[0K\u001b[1G155.8 Mb [] 56% 1.2s\u001b[0K\u001b[1G155.8 Mb [] 57% 1.2s\u001b[0K\u001b[1G155.8 Mb [] 58% 1.2s\u001b[0K\u001b[1G155.8 Mb [] 59% 1.2s\u001b[0K\u001b[1G155.8 Mb [] 60% 1.1s\u001b[0K\u001b[1G155.8 Mb [] 61% 1.1s\u001b[0K\u001b[1G155.8 Mb [] 63% 1.0s\u001b[0K\u001b[1G155.8 Mb [] 64% 1.0s\u001b[0K\u001b[1G155.8 Mb [] 65% 1.0s\u001b[0K\u001b[1G155.8 Mb [] 66% 0.9s\u001b[0K\u001b[1G155.8 Mb [] 67% 0.9s\u001b[0K\u001b[1G155.8 Mb [] 68% 0.8s\u001b[0K\u001b[1G155.8 Mb [] 69% 0.8s\u001b[0K\u001b[1G155.8 Mb [] 70% 0.8s\u001b[0K\u001b[1G155.8 Mb [] 71% 0.8s\u001b[0K\u001b[1G155.8 Mb [] 72% 0.7s\u001b[0K\u001b[1G155.8 Mb [] 73% 0.7s\u001b[0K\u001b[1G155.8 Mb [] 74% 0.7s\u001b[0K\u001b[1G155.8 Mb [] 75% 0.7s\u001b[0K\u001b[1G155.8 Mb [] 75% 0.6s\u001b[0K\u001b[1G155.8 Mb [] 76% 0.6s\u001b[0K\u001b[1G155.8 Mb [] 77% 0.6s\u001b[0K\u001b[1G155.8 Mb [] 78% 0.6s\u001b[0K\u001b[1G155.8 Mb [] 79% 0.5s\u001b[0K\u001b[1G155.8 Mb [] 80% 0.5s\u001b[0K\u001b[1G155.8 Mb [] 81% 0.5s\u001b[0K\u001b[1G155.8 Mb [] 82% 0.5s\u001b[0K\u001b[1G155.8 Mb [] 83% 0.5s\u001b[0K\u001b[1G155.8 Mb [] 83% 0.4s\u001b[0K\u001b[1G155.8 Mb [] 84% 0.4s\u001b[0K\u001b[1G155.8 Mb [] 85% 0.4s\u001b[0K\u001b[1G155.8 Mb [] 86% 0.4s\u001b[0K\u001b[1G155.8 Mb [] 87% 0.3s\u001b[0K\u001b[1G155.8 Mb [] 88% 0.3s\u001b[0K\u001b[1G155.8 Mb [] 89% 0.3s\u001b[0K\u001b[1G155.8 Mb [] 90% 0.3s\u001b[0K\u001b[1G155.8 Mb [] 90% 0.2s\u001b[0K\u001b[1G155.8 Mb [] 91% 0.2s\u001b[0K\u001b[1G155.8 Mb [] 92% 0.2s\u001b[0K\u001b[1G155.8 Mb [] 93% 0.2s\u001b[0K\u001b[1G155.8 Mb [] 94% 0.1s\u001b[0K\u001b[1G155.8 Mb [] 95% 0.1s\u001b[0K\u001b[1G155.8 Mb [] 96% 0.1s\u001b[0K\u001b[1G155.8 Mb [] 97% 0.1s\u001b[0K\u001b[1G155.8 Mb [] 98% 0.0s\u001b[0K\u001b[1G155.8 Mb [] 99% 0.0s\u001b[0K\u001b[1G155.8 Mb [] 100% 0.0s\u001b[0K\n",
            "Chromium 119.0.6045.9 (playwright build v1084) downloaded to /root/.cache/ms-playwright/chromium-1084\n",
            "Downloading FFMPEG playwright build v1009\u001b[2m from https://playwright.azureedge.net/builds/ffmpeg/1009/ffmpeg-linux.zip\u001b[22m\n",
            "\u001b[1G2.6 Mb [] 0% 0.0s\u001b[0K\u001b[1G2.6 Mb [] 4% 0.5s\u001b[0K\u001b[1G2.6 Mb [] 11% 0.3s\u001b[0K\u001b[1G2.6 Mb [] 29% 0.1s\u001b[0K\u001b[1G2.6 Mb [] 40% 0.1s\u001b[0K\u001b[1G2.6 Mb [] 59% 0.1s\u001b[0K\u001b[1G2.6 Mb [] 78% 0.0s\u001b[0K\u001b[1G2.6 Mb [] 93% 0.0s\u001b[0K\u001b[1G2.6 Mb [] 100% 0.0s\u001b[0K\n",
            "FFMPEG playwright build v1009 downloaded to /root/.cache/ms-playwright/ffmpeg-1009\n",
            "Downloading Firefox 118.0.1 (playwright build v1425)\u001b[2m from https://playwright.azureedge.net/builds/firefox/1425/firefox-ubuntu-22.04.zip\u001b[22m\n",
            "\u001b[1G80.8 Mb [] 0% 0.0s\u001b[0K\u001b[1G80.8 Mb [] 0% 14.7s\u001b[0K\u001b[1G80.8 Mb [] 0% 11.7s\u001b[0K\u001b[1G80.8 Mb [] 0% 5.8s\u001b[0K\u001b[1G80.8 Mb [] 1% 3.6s\u001b[0K\u001b[1G80.8 Mb [] 2% 2.7s\u001b[0K\u001b[1G80.8 Mb [] 4% 2.1s\u001b[0K\u001b[1G80.8 Mb [] 5% 1.9s\u001b[0K\u001b[1G80.8 Mb [] 6% 1.9s\u001b[0K\u001b[1G80.8 Mb [] 7% 1.9s\u001b[0K\u001b[1G80.8 Mb [] 9% 1.8s\u001b[0K\u001b[1G80.8 Mb [] 10% 1.6s\u001b[0K\u001b[1G80.8 Mb [] 11% 1.6s\u001b[0K\u001b[1G80.8 Mb [] 12% 1.5s\u001b[0K\u001b[1G80.8 Mb [] 14% 1.5s\u001b[0K\u001b[1G80.8 Mb [] 15% 1.4s\u001b[0K\u001b[1G80.8 Mb [] 17% 1.3s\u001b[0K\u001b[1G80.8 Mb [] 18% 1.3s\u001b[0K\u001b[1G80.8 Mb [] 19% 1.3s\u001b[0K\u001b[1G80.8 Mb [] 20% 1.4s\u001b[0K\u001b[1G80.8 Mb [] 22% 1.3s\u001b[0K\u001b[1G80.8 Mb [] 24% 1.2s\u001b[0K\u001b[1G80.8 Mb [] 26% 1.2s\u001b[0K\u001b[1G80.8 Mb [] 27% 1.1s\u001b[0K\u001b[1G80.8 Mb [] 29% 1.1s\u001b[0K\u001b[1G80.8 Mb [] 31% 1.0s\u001b[0K\u001b[1G80.8 Mb [] 32% 1.0s\u001b[0K\u001b[1G80.8 Mb [] 33% 1.0s\u001b[0K\u001b[1G80.8 Mb [] 36% 0.9s\u001b[0K\u001b[1G80.8 Mb [] 37% 0.9s\u001b[0K\u001b[1G80.8 Mb [] 39% 0.8s\u001b[0K\u001b[1G80.8 Mb [] 39% 0.9s\u001b[0K\u001b[1G80.8 Mb [] 42% 0.8s\u001b[0K\u001b[1G80.8 Mb [] 43% 0.8s\u001b[0K\u001b[1G80.8 Mb [] 46% 0.7s\u001b[0K\u001b[1G80.8 Mb [] 47% 0.7s\u001b[0K\u001b[1G80.8 Mb [] 49% 0.7s\u001b[0K\u001b[1G80.8 Mb [] 51% 0.7s\u001b[0K\u001b[1G80.8 Mb [] 52% 0.6s\u001b[0K\u001b[1G80.8 Mb [] 53% 0.6s\u001b[0K\u001b[1G80.8 Mb [] 55% 0.6s\u001b[0K\u001b[1G80.8 Mb [] 57% 0.6s\u001b[0K\u001b[1G80.8 Mb [] 59% 0.5s\u001b[0K\u001b[1G80.8 Mb [] 60% 0.5s\u001b[0K\u001b[1G80.8 Mb [] 62% 0.5s\u001b[0K\u001b[1G80.8 Mb [] 64% 0.5s\u001b[0K\u001b[1G80.8 Mb [] 65% 0.5s\u001b[0K\u001b[1G80.8 Mb [] 66% 0.5s\u001b[0K\u001b[1G80.8 Mb [] 67% 0.4s\u001b[0K\u001b[1G80.8 Mb [] 68% 0.4s\u001b[0K\u001b[1G80.8 Mb [] 69% 0.4s\u001b[0K\u001b[1G80.8 Mb [] 70% 0.4s\u001b[0K\u001b[1G80.8 Mb [] 71% 0.4s\u001b[0K\u001b[1G80.8 Mb [] 72% 0.4s\u001b[0K\u001b[1G80.8 Mb [] 74% 0.4s\u001b[0K\u001b[1G80.8 Mb [] 76% 0.3s\u001b[0K\u001b[1G80.8 Mb [] 78% 0.3s\u001b[0K\u001b[1G80.8 Mb [] 79% 0.3s\u001b[0K\u001b[1G80.8 Mb [] 81% 0.3s\u001b[0K\u001b[1G80.8 Mb [] 83% 0.2s\u001b[0K\u001b[1G80.8 Mb [] 84% 0.2s\u001b[0K\u001b[1G80.8 Mb [] 85% 0.2s\u001b[0K\u001b[1G80.8 Mb [] 86% 0.2s\u001b[0K\u001b[1G80.8 Mb [] 87% 0.2s\u001b[0K\u001b[1G80.8 Mb [] 89% 0.2s\u001b[0K\u001b[1G80.8 Mb [] 91% 0.1s\u001b[0K\u001b[1G80.8 Mb [] 93% 0.1s\u001b[0K\u001b[1G80.8 Mb [] 94% 0.1s\u001b[0K\u001b[1G80.8 Mb [] 95% 0.1s\u001b[0K\u001b[1G80.8 Mb [] 96% 0.1s\u001b[0K\u001b[1G80.8 Mb [] 97% 0.0s\u001b[0K\u001b[1G80.8 Mb [] 98% 0.0s\u001b[0K\u001b[1G80.8 Mb [] 99% 0.0s\u001b[0K\u001b[1G80.8 Mb [] 100% 0.0s\u001b[0K\n",
            "Firefox 118.0.1 (playwright build v1425) downloaded to /root/.cache/ms-playwright/firefox-1425\n",
            "Downloading Webkit 17.4 (playwright build v1921)\u001b[2m from https://playwright.azureedge.net/builds/webkit/1921/webkit-ubuntu-22.04.zip\u001b[22m\n",
            "\u001b[1G82.9 Mb [] 0% 0.0s\u001b[0K\u001b[1G82.9 Mb [] 0% 19.2s\u001b[0K\u001b[1G82.9 Mb [] 0% 10.0s\u001b[0K\u001b[1G82.9 Mb [] 0% 6.5s\u001b[0K\u001b[1G82.9 Mb [] 1% 3.6s\u001b[0K\u001b[1G82.9 Mb [] 2% 2.8s\u001b[0K\u001b[1G82.9 Mb [] 4% 2.4s\u001b[0K\u001b[1G82.9 Mb [] 5% 2.2s\u001b[0K\u001b[1G82.9 Mb [] 6% 2.1s\u001b[0K\u001b[1G82.9 Mb [] 7% 2.0s\u001b[0K\u001b[1G82.9 Mb [] 7% 2.1s\u001b[0K\u001b[1G82.9 Mb [] 8% 2.2s\u001b[0K\u001b[1G82.9 Mb [] 9% 1.9s\u001b[0K\u001b[1G82.9 Mb [] 11% 1.8s\u001b[0K\u001b[1G82.9 Mb [] 12% 1.8s\u001b[0K\u001b[1G82.9 Mb [] 12% 1.7s\u001b[0K\u001b[1G82.9 Mb [] 14% 1.6s\u001b[0K\u001b[1G82.9 Mb [] 15% 1.6s\u001b[0K\u001b[1G82.9 Mb [] 16% 1.5s\u001b[0K\u001b[1G82.9 Mb [] 18% 1.5s\u001b[0K\u001b[1G82.9 Mb [] 19% 1.4s\u001b[0K\u001b[1G82.9 Mb [] 21% 1.3s\u001b[0K\u001b[1G82.9 Mb [] 22% 1.3s\u001b[0K\u001b[1G82.9 Mb [] 24% 1.3s\u001b[0K\u001b[1G82.9 Mb [] 25% 1.3s\u001b[0K\u001b[1G82.9 Mb [] 27% 1.2s\u001b[0K\u001b[1G82.9 Mb [] 28% 1.2s\u001b[0K\u001b[1G82.9 Mb [] 29% 1.1s\u001b[0K\u001b[1G82.9 Mb [] 31% 1.1s\u001b[0K\u001b[1G82.9 Mb [] 32% 1.1s\u001b[0K\u001b[1G82.9 Mb [] 33% 1.1s\u001b[0K\u001b[1G82.9 Mb [] 35% 1.0s\u001b[0K\u001b[1G82.9 Mb [] 37% 1.0s\u001b[0K\u001b[1G82.9 Mb [] 38% 0.9s\u001b[0K\u001b[1G82.9 Mb [] 39% 0.9s\u001b[0K\u001b[1G82.9 Mb [] 41% 0.9s\u001b[0K\u001b[1G82.9 Mb [] 43% 0.9s\u001b[0K\u001b[1G82.9 Mb [] 44% 0.8s\u001b[0K\u001b[1G82.9 Mb [] 46% 0.8s\u001b[0K\u001b[1G82.9 Mb [] 48% 0.8s\u001b[0K\u001b[1G82.9 Mb [] 50% 0.7s\u001b[0K\u001b[1G82.9 Mb [] 51% 0.7s\u001b[0K\u001b[1G82.9 Mb [] 54% 0.6s\u001b[0K\u001b[1G82.9 Mb [] 55% 0.6s\u001b[0K\u001b[1G82.9 Mb [] 56% 0.6s\u001b[0K\u001b[1G82.9 Mb [] 57% 0.6s\u001b[0K\u001b[1G82.9 Mb [] 58% 0.6s\u001b[0K\u001b[1G82.9 Mb [] 59% 0.6s\u001b[0K\u001b[1G82.9 Mb [] 60% 0.5s\u001b[0K\u001b[1G82.9 Mb [] 63% 0.5s\u001b[0K\u001b[1G82.9 Mb [] 65% 0.5s\u001b[0K\u001b[1G82.9 Mb [] 67% 0.4s\u001b[0K\u001b[1G82.9 Mb [] 68% 0.4s\u001b[0K\u001b[1G82.9 Mb [] 69% 0.4s\u001b[0K\u001b[1G82.9 Mb [] 71% 0.4s\u001b[0K\u001b[1G82.9 Mb [] 73% 0.4s\u001b[0K\u001b[1G82.9 Mb [] 74% 0.3s\u001b[0K\u001b[1G82.9 Mb [] 76% 0.3s\u001b[0K\u001b[1G82.9 Mb [] 77% 0.3s\u001b[0K\u001b[1G82.9 Mb [] 80% 0.3s\u001b[0K\u001b[1G82.9 Mb [] 81% 0.2s\u001b[0K\u001b[1G82.9 Mb [] 83% 0.2s\u001b[0K\u001b[1G82.9 Mb [] 84% 0.2s\u001b[0K\u001b[1G82.9 Mb [] 86% 0.2s\u001b[0K\u001b[1G82.9 Mb [] 89% 0.1s\u001b[0K\u001b[1G82.9 Mb [] 90% 0.1s\u001b[0K\u001b[1G82.9 Mb [] 92% 0.1s\u001b[0K\u001b[1G82.9 Mb [] 93% 0.1s\u001b[0K\u001b[1G82.9 Mb [] 95% 0.1s\u001b[0K\u001b[1G82.9 Mb [] 97% 0.0s\u001b[0K\u001b[1G82.9 Mb [] 100% 0.0s\u001b[0K\n",
            "Webkit 17.4 (playwright build v1921) downloaded to /root/.cache/ms-playwright/webkit-1921\n",
            "Collecting xlsxwriter\n",
            "  Downloading XlsxWriter-3.1.9-py3-none-any.whl (154 kB)\n",
            "\u001b[2K     \u001b[90m━━━━━━━━━━━━━━━━━━━━━━━━━━━━━━━━━━━━━━━━\u001b[0m \u001b[32m154.8/154.8 kB\u001b[0m \u001b[31m1.9 MB/s\u001b[0m eta \u001b[36m0:00:00\u001b[0m\n",
            "\u001b[?25hInstalling collected packages: xlsxwriter\n",
            "Successfully installed xlsxwriter-3.1.9\n"
          ]
        }
      ],
      "source": [
        "# !pip install playwright\n",
        "# !playwright install\n",
        "# !pip install xlsxwriter"
      ]
    },
    {
      "cell_type": "markdown",
      "metadata": {
        "id": "LjtSgJkyE9_H"
      },
      "source": [
        "#Imports and package installation"
      ]
    },
    {
      "cell_type": "code",
      "execution_count": null,
      "metadata": {
        "id": "SUMWNk_ROVrL"
      },
      "outputs": [],
      "source": [
        "from bs4 import BeautifulSoup\n",
        "import requests\n",
        "import pandas as pd\n",
        "import json\n",
        "from datetime import datetime\n",
        "from playwright.sync_api import sync_playwright\n",
        "from google.colab import files\n",
        "from openpyxl import Workbook\n",
        "from openpyxl.styles import Font\n",
        "import xlsxwriter\n",
        "import numpy as np"
      ]
    },
    {
      "cell_type": "markdown",
      "metadata": {
        "id": "nyHAyhLFS2iI"
      },
      "source": [
        "# 여기다가 투어코드 쓰세요"
      ]
    },
    {
      "cell_type": "code",
      "execution_count": null,
      "metadata": {
        "id": "ilZS8z3gditm"
      },
      "outputs": [],
      "source": [
        "# Get input from the user\n",
        "code = 'PAP221231107KEY' #@param {type:\"string\"}\n",
        "location = '\\uC2DC\\uB4DC\\uB2C8,\\uACE8\\uB4DC\\uCF54\\uC2A4\\uD2B8' #@param {type:\"string\"}\n",
        "# Split the input on commas and strip any leading/trailing whitespace\n",
        "location = [item.strip() for item in location.split(',')]\n",
        "\n"
      ]
    },
    {
      "cell_type": "code",
      "execution_count": null,
      "metadata": {
        "id": "bKRJV6RbOfuE"
      },
      "outputs": [],
      "source": [
        "#Extract data from the hanatour API\n",
        "#modify so that it's\n",
        "# url = url\n",
        "# payload = payload\n",
        "\n",
        "def get_data(url,payload):\n",
        "    url = url\n",
        "    payload = payload\n",
        "\n",
        "    querystring = {\"_siteId\":\"hanatour\"}\n",
        "    payload = payload\n",
        "    #Get these header details for your device from INSOMNIA\n",
        "    headers = {\n",
        "        \"cookie\": \"\",\n",
        "        \"Content-Type\": \"application/json\",\n",
        "        \"Accept\": \"application/json, text/plain, */*\",\n",
        "        \"Accept-Language\": \"en-GB,en-US;q=0.9,en;q=0.8\",\n",
        "        \"Connection\": \"keep-alive\",\n",
        "        \"Cookie\": \"\",\n",
        "        \"Origin\": \"https://www.hanatour.com\",\n",
        "        \"Referer\": \"https://www.hanatour.com/\",\n",
        "        \"Sec-Fetch-Dest\": \"empty\",\n",
        "        \"Sec-Fetch-Mode\": \"cors\",\n",
        "        \"Sec-Fetch-Site\": \"same-site\",\n",
        "        \"User-Agent\": \"\",\n",
        "        \"prgmId\": \"\",\n",
        "        \"sec-ch-ua\": \"\"}\n",
        "    response = requests.request(\"POST\", url, json=payload, headers=headers, params=querystring)\n",
        "    return response\n"
      ]
    },
    {
      "cell_type": "markdown",
      "metadata": {
        "id": "ryqAfRbgTm4Z"
      },
      "source": [
        "# Other functions"
      ]
    },
    {
      "cell_type": "code",
      "execution_count": null,
      "metadata": {
        "cellView": "form",
        "id": "8S1vJc6Ex8Gv"
      },
      "outputs": [],
      "source": [
        "# @title arrival_flight_detail\n",
        "#get arrival flight detail\n",
        "def get_arrival_flight(code,departDate):\n",
        "  url_flight_id = \"https://api.hanatour.com/svc/mciPkg/getPkgProdInfo\"\n",
        "  payload_id = {\"pkgCd\":code,\"inpPathCd\":\"DCP\",\"smplYn\":\"N\",\"coopYn\":\"N\",\"resAcceptPtn\":{},\"partnerYn\":\"N\"}\n",
        "  response_id_data = get_data(url_flight_id,payload_id)\n",
        "  response_id = json.loads(response_id_data.text)\n",
        "  invIds = response_id[\"airInvInfo\"][\"invId\"]\n",
        "\n",
        "  url = \"https://api.hanatour.com/svc/mciAir/schRtFlgt?_siteId=hanatour\"\n",
        "  payload = {\"depDt\":departDate,\"invId\":invIds}\n",
        "  response = get_data(url,payload)\n",
        "  response = json.loads(response.text)\n",
        "  #get time and date\n",
        "  date = response[\"rtFlgtLst\"][0][\"arrDate\"]\n",
        "  # time = response[\"rtFlgtLst\"][0][\"arrvTime\"]\n",
        "  # arrival_date = datetime.strptime(date, \"%Y%m%d%\")\n",
        "  # arrival_time = datetime.strptime(time, \"H%M\")\n",
        "  # time_12hr = arrival_time.strftime(\"%I:%M %p\")\n",
        "  # #get flight detail\n",
        "  # flight_code = response[\"rtFlgtLst\"][0][\"mktAlCode\"]+response[\"rtFlgtLst\"][0][\"mktAlNo\"]\n",
        "\n",
        "  # flight_detail_time = arrival_time + \" \" + flight_code\n",
        "\n",
        "  return date\n",
        "\n",
        "\n"
      ]
    },
    {
      "cell_type": "code",
      "execution_count": null,
      "metadata": {
        "cellView": "form",
        "id": "45nvju2xISaO"
      },
      "outputs": [],
      "source": [
        "# @title load_table\n",
        "\n",
        "#make it into dataframe\n",
        "def load_to_table(response,code):\n",
        "  data = json.loads(response.text)\n",
        "\n",
        "  #data[\"schdInfoList\"][0][\"schdMainInfoList\"]\n",
        "  table = pd.DataFrame(columns = [\"Date\",\"location\",\"Activity\"])\n",
        "\n",
        "  start_date = datetime.strptime(data[\"schdInfoList\"][0][\"strtDt\"],\"%Y%m%d\").date()\n",
        "  location = data[\"pkgAirSeqList\"][0][\"depAptCityNm\"]\n",
        "  start_activity = data[\"pkgAirSeqList\"][0][\"airlCd\"]+data[\"pkgAirSeqList\"][0][\"flgtNm\"]+\" 도착시간: \" +data[\"pkgAirSeqList\"][0][\"arrHm\"] +\" \" + data[\"pkgAirSeqList\"][0][\"arrAptNm\"]\n",
        "  #table = table.append([start_date, location,start_activity])\n",
        "  for day in data[\"schdInfoList\"]:\n",
        "      date = datetime.strptime(day[\"strtDt\"],\"%Y%m%d\").date()\n",
        "      for event in day[\"schdMainInfoList\"]:\n",
        "          if event[\"arriveCityNm\"] is not None:\n",
        "              location = event[\"arriveCityNm\"]\n",
        "          if event[\"schdCatgNm\"] == \"선택관광\":\n",
        "              option_tour = event[\"cardNm\"]\n",
        "              price = event[\"cardCntntPc\"]\n",
        "              price_parse = BeautifulSoup(price,\"html.parser\")\n",
        "              # Find all div elements with the class 'txt_cont'\n",
        "              elements = price_parse.find_all('div', class_='txt_cont')\n",
        "              # Loop through the elements and print the text if it contains '요금'\n",
        "              option_price = \"\"\n",
        "              for element in elements:\n",
        "                  if '요금' in element.text:\n",
        "                      option_price = element.text.strip()\n",
        "              option_text = \"옵션: \"+option_tour + \" \" + option_price\n",
        "              table.loc[len(table.index)] = [date,location,option_text]\n",
        "          elif event[\"cmsInfoList\"] is not None:\n",
        "              for event_name in event[\"cmsInfoList\"]:\n",
        "                  table.loc[len(table.index)] = [date,location,event_name[\"cmsCntntNm\"]]\n",
        "          elif event[\"trfcMensNm\"] == \"항공\":\n",
        "              table.loc[len(table.index)] = [date,\"항공\",event[\"memoCont\"]]\n",
        "          elif event[\"trfcMensNm\"] == \"버스\":\n",
        "              bus_text = event[\"depCityNm\"] + \"-\" + event[\"arriveCityNm\"] +\" 이동\"\n",
        "              table.loc[len(table.index)] = [date,location,bus_text]\n",
        "          elif event[\"schdCatgNm\"] == \"식사\":\n",
        "              meal = event[\"dtlMealDvNm\"] + \" \" + ('' if event[\"mealCont\"] is None else event[\"mealCont\"]) + ('' if event[\"mealTypeNm\"] is None else event[\"mealTypeNm\"])\n",
        "              table.loc[len(table.index)] = [date,location,meal]\n",
        "          elif event[\"memoTitlNm\"] is not None:\n",
        "              table.loc[len(table.index)] = [date,location,event[\"memoTitlNm\"]]\n",
        "      if day[\"htlInfoList\"] is not None:\n",
        "          hotel_detail = day[\"htlInfoList\"][0][\"htlAplcLangNm\"]\n",
        "          table.loc[len(table.index)] = [date,location,hotel_detail]\n",
        "\n",
        "  depart_date = data[\"schdInfoList\"][0][\"strtDt\"]\n",
        "  aus_flt_arrival_detail = get_arrival_flight(code,depart_date)\n",
        "  table[\"Date\"][0] = datetime.strptime(aus_flt_arrival_detail,\"%Y%m%d\").date()\n",
        "  table[\"location\"][0] = \"항공\" #data[\"pkgAirSeqList\"][0][\"depAptCityNm\"]\n",
        "  arrival_time = datetime.strptime(data[\"pkgAirSeqList\"][0][\"arrHm\"],\"%H%M\").strftime(\"%I:%M %p\")\n",
        "  table[\"Activity\"][0] = data[\"pkgAirSeqList\"][0][\"airlCd\"]+data[\"pkgAirSeqList\"][0][\"flgtNm\"]+\" 도착시간: \" + arrival_time  +\" \" + data[\"pkgAirSeqList\"][0][\"arrAptNm\"]\n",
        "\n",
        "  end_date= datetime.strptime(data[\"schdInfoList\"][-1][\"strtDt\"],\"%Y%m%d\").date()\n",
        "  end_location = data[\"pkgAirSeqList\"][-1][\"depAptCityNm\"]\n",
        "  end_arrival_time = datetime.strptime(data[\"pkgAirSeqList\"][-1][\"depHm\"],\"%H%M\").strftime(\"%I:%M %p\")\n",
        "  end_acitivity = data[\"pkgAirSeqList\"][-1][\"airlCd\"]+data[\"pkgAirSeqList\"][-1][\"flgtNm\"]+\" 출발시간: \" + end_arrival_time  +\" \" + data[\"pkgAirSeqList\"][-1][\"depAptNm\"]\n",
        "  table.loc[len(table.index)]=[end_date,end_location,end_acitivity]\n",
        "  table.insert(1,\"Time\",None)\n",
        "  table.insert(4,\"Confirmation\",None)\n",
        "\n",
        "  return(table)"
      ]
    },
    {
      "cell_type": "code",
      "execution_count": null,
      "metadata": {
        "id": "ywxdJm0PY-wi"
      },
      "outputs": [],
      "source": [
        "# @title aggregate_region\n",
        "#aggregate regions\n",
        "def aggregate_region():\n",
        "  region_aggregation = \\\n",
        "   {\"뉴캐슬\":\"시드니\",\n",
        "    \"포트스티븐스\":\"시드니\",\n",
        "    \"울릉공\":\"시드니\",\n",
        "    \"키아마\": \"시드니\",\n",
        "    \"헌터벨리\":\"시드니\",\n",
        "    \"저비스베이\":\"시드니\",\n",
        "    \"커럼빈\": \"시드니\",\n",
        "    \"시드니\": \"시드니\",\n",
        "    \"골드코스트\":\"골드코스트\",\n",
        "    \"브리즈번\":\"골드코스트\",\n",
        "    \"멜버른\":\"멜버른\"\n",
        "    }\n",
        "  return region_aggregation"
      ]
    },
    {
      "cell_type": "code",
      "execution_count": null,
      "metadata": {
        "cellView": "form",
        "id": "m979tloT0mSB"
      },
      "outputs": [],
      "source": [
        "# @title separate_by_region\n",
        "def new_separate_by_region(table,region):\n",
        "  map_dict = aggregate_region()\n",
        "    # Map the 'Location' column to the dictionary values\n",
        "  table['Mapped_Location'] = table['location'].map(map_dict)\n",
        "\n",
        "  # Filter rows where 'Mapped_Location' is 'region'\n",
        "  filtered_df = table[(table['Mapped_Location'] == region) | (table['location']==\"항공\")]\n",
        "  filtered_df.drop('Mapped_Location',axis = 1, inplace=True)\n",
        "  return filtered_df\n",
        "\n"
      ]
    },
    {
      "cell_type": "code",
      "execution_count": null,
      "metadata": {
        "cellView": "form",
        "id": "KgbzenqsioMv"
      },
      "outputs": [],
      "source": [
        "# @title get_code_name\n",
        "#get Code, code names, tc,tip amount,invId (They are all strings not numbers)\n",
        "def get_code_names(code):\n",
        "  response = get_data(\"https://api.hanatour.com/svc/mciPkg/getPkgProdInfo\",{\"pkgCd\":code,\"inpPathCd\":\"DCP\",\"smplYn\":\"N\",\"coopYn\":\"N\",\"resAcceptPtn\":{},\"partnerYn\":\"N\"})\n",
        "  response = json.loads(response.text)\n",
        "  code = response[\"saleProdCd\"]\n",
        "  code_name = response[\"saleProdNm\"]\n",
        "  tc = response[\"tcInfo\"][\"tcRmkCont\"]\n",
        "  tip = response[\"trvlExpnNoneInclList\"][0][\"trvlExpnDesc\"]\n",
        "  return [code, code_name, tc, tip]\n"
      ]
    },
    {
      "cell_type": "code",
      "execution_count": null,
      "metadata": {
        "cellView": "form",
        "id": "2E_NJjPkkJJi"
      },
      "outputs": [],
      "source": [
        "# @title get_num_people\n",
        "#get number of people\n",
        "def get_num_people(code):\n",
        "  response = get_data(\"https://api.hanatour.com/svc/mciPkg/getPkgPromCdInfo?_siteId=hanatour\",{\"pkgCd\":code,\"qryDvCd\":\"1\"})\n",
        "  response = json.loads(response.text)\n",
        "  return response[\"promCdInfo\"][0][\"pecnClpsnCnt\"]"
      ]
    },
    {
      "cell_type": "code",
      "execution_count": null,
      "metadata": {
        "cellView": "form",
        "id": "XzS-3j_HXe74"
      },
      "outputs": [],
      "source": [
        "# @title create_excel_file\n",
        "#helper function\n",
        "def highlight_rows(row, condition):\n",
        "    if condition[row.name]:\n",
        "        return [''] * len(row)\n",
        "    else:\n",
        "        return ['background-color: yellow'] * len(row)\n",
        "\n",
        "# Make excel file and modify them\n",
        "def create_excel_file(table,region,code):\n",
        "\n",
        "  #keep the dates and location for first entry\n",
        "  table.loc[table.duplicated(subset=['Date'], keep='first'), ['Date','location']]= None\n",
        "\n",
        "  #Write into excel\n",
        "  file_name = f\"{code}_{region}.xlsx\"\n",
        "  writer = pd.ExcelWriter(file_name,engine = \"xlsxwriter\")\n",
        "  table.to_excel(writer, sheet_name='Sheet1', index = False,startrow = 6)\n",
        "  workbook  = writer.book\n",
        "  worksheet = writer.sheets['Sheet1']\n",
        "\n",
        "  #increase font size\n",
        "    # Define a format for the font size\n",
        "  font_format = workbook.add_format({'font_size': 14,})  # Change the number to your preferred font size\n",
        "\n",
        "    # Define a format for the border\n",
        "  border_format = workbook.add_format({'font_size': 14,'border':1})\n",
        "\n",
        "    # Define a date format\n",
        "  date_format = workbook.add_format({'num_format': 'yyyy-mm-dd','border':1,'font_size': 14})\n",
        "\n",
        "  #auto fit column sizes and apply border\n",
        "  for column in table:\n",
        "    column_length = max(table[column].astype(str).map(len).max(), len(column))\n",
        "    col_idx = table.columns.get_loc(column)\n",
        "    worksheet.set_column(col_idx, col_idx, column_length,font_format)\n",
        "        # Apply border format to cells in this column\n",
        "    for row in range(7, len(table) + 7):  # Adjust the range according to your DataFrame's position\n",
        "      worksheet.write(row, col_idx, table.iloc[row - 7, col_idx], border_format)\n",
        "\n",
        "  # Apply the date format to the 'Date' column cells\n",
        "  date_col_idx = table.columns.get_loc('Date')  # Get the index of 'Date' column\n",
        "  for row in range(len(table)):  # Adjust the range according to your DataFrame's position\n",
        "      worksheet.write(row + 7, date_col_idx, table.iloc[row, date_col_idx], date_format)\n",
        "\n",
        "  #Write details above table\n",
        "  bold_font = workbook.add_format({'bold':True,'font_size': 14})\n",
        "  code, code_name, tc, tip = get_code_names(code)\n",
        "  num_people = get_num_people(code)\n",
        "  worksheet.write('A1', '그룹코드',bold_font)\n",
        "  worksheet.write('B1', code,bold_font)\n",
        "  worksheet.write('A2', code_name,bold_font)\n",
        "  worksheet.write('A3', \"가이드\",bold_font)\n",
        "  worksheet.write('A4', \"총인원\",bold_font)\n",
        "  worksheet.write('B4', num_people)\n",
        "  worksheet.write('A5', \"인솔자\",bold_font)\n",
        "  worksheet.write('B5', tc)\n",
        "\n",
        "  #Write details below the table\n",
        "  num_rows = table.shape[0]\n",
        "\n",
        "  worksheet.write(num_rows + 6 + 1, 0, \"**비고사항**\",bold_font)\n",
        "  worksheet.write(num_rows + 6 + 2, 0, tip + \" 시드니에서 걷습니다.\")\n",
        "  writer.close()\n",
        "  files.download(file_name)\n",
        "\n",
        "\n",
        "\n",
        "\n",
        "\n",
        "\n"
      ]
    },
    {
      "cell_type": "markdown",
      "metadata": {
        "id": "57YKSbedTwkq"
      },
      "source": [
        "# main.py"
      ]
    },
    {
      "cell_type": "code",
      "execution_count": null,
      "metadata": {
        "colab": {
          "base_uri": "https://localhost:8080/",
          "height": 364
        },
        "id": "hDWUolQx2Zz5",
        "outputId": "c5611f45-5e93-4bbb-9f10-b072e9db41b9"
      },
      "outputs": [
        {
          "name": "stderr",
          "output_type": "stream",
          "text": [
            "<ipython-input-8-7b9b59cb0cf1>:9: SettingWithCopyWarning: \n",
            "A value is trying to be set on a copy of a slice from a DataFrame\n",
            "\n",
            "See the caveats in the documentation: https://pandas.pydata.org/pandas-docs/stable/user_guide/indexing.html#returning-a-view-versus-a-copy\n",
            "  filtered_df.drop('Mapped_Location',axis = 1, inplace=True)\n",
            "<ipython-input-11-174ddf2f79c1>:19: SettingWithCopyWarning: \n",
            "A value is trying to be set on a copy of a slice from a DataFrame\n",
            "\n",
            "See the caveats in the documentation: https://pandas.pydata.org/pandas-docs/stable/user_guide/indexing.html#returning-a-view-versus-a-copy\n",
            "  table.loc[table.duplicated(subset=['Date'], keep='first'), ['Date','location']]= None\n"
          ]
        },
        {
          "data": {
            "application/javascript": "\n    async function download(id, filename, size) {\n      if (!google.colab.kernel.accessAllowed) {\n        return;\n      }\n      const div = document.createElement('div');\n      const label = document.createElement('label');\n      label.textContent = `Downloading \"${filename}\": `;\n      div.appendChild(label);\n      const progress = document.createElement('progress');\n      progress.max = size;\n      div.appendChild(progress);\n      document.body.appendChild(div);\n\n      const buffers = [];\n      let downloaded = 0;\n\n      const channel = await google.colab.kernel.comms.open(id);\n      // Send a message to notify the kernel that we're ready.\n      channel.send({})\n\n      for await (const message of channel.messages) {\n        // Send a message to notify the kernel that we're ready.\n        channel.send({})\n        if (message.buffers) {\n          for (const buffer of message.buffers) {\n            buffers.push(buffer);\n            downloaded += buffer.byteLength;\n            progress.value = downloaded;\n          }\n        }\n      }\n      const blob = new Blob(buffers, {type: 'application/binary'});\n      const a = document.createElement('a');\n      a.href = window.URL.createObjectURL(blob);\n      a.download = filename;\n      div.appendChild(a);\n      a.click();\n      div.remove();\n    }\n  ",
            "text/plain": [
              "<IPython.core.display.Javascript object>"
            ]
          },
          "metadata": {},
          "output_type": "display_data"
        },
        {
          "data": {
            "application/javascript": "download(\"download_ea666ef7-8cf8-4850-9f79-c8068d3f0e56\", \"PAP221231107KEY_\\uc2dc\\ub4dc\\ub2c8.xlsx\", 7322)",
            "text/plain": [
              "<IPython.core.display.Javascript object>"
            ]
          },
          "metadata": {},
          "output_type": "display_data"
        },
        {
          "name": "stderr",
          "output_type": "stream",
          "text": [
            "<ipython-input-8-7b9b59cb0cf1>:9: SettingWithCopyWarning: \n",
            "A value is trying to be set on a copy of a slice from a DataFrame\n",
            "\n",
            "See the caveats in the documentation: https://pandas.pydata.org/pandas-docs/stable/user_guide/indexing.html#returning-a-view-versus-a-copy\n",
            "  filtered_df.drop('Mapped_Location',axis = 1, inplace=True)\n",
            "<ipython-input-11-174ddf2f79c1>:19: SettingWithCopyWarning: \n",
            "A value is trying to be set on a copy of a slice from a DataFrame\n",
            "\n",
            "See the caveats in the documentation: https://pandas.pydata.org/pandas-docs/stable/user_guide/indexing.html#returning-a-view-versus-a-copy\n",
            "  table.loc[table.duplicated(subset=['Date'], keep='first'), ['Date','location']]= None\n"
          ]
        },
        {
          "data": {
            "application/javascript": "\n    async function download(id, filename, size) {\n      if (!google.colab.kernel.accessAllowed) {\n        return;\n      }\n      const div = document.createElement('div');\n      const label = document.createElement('label');\n      label.textContent = `Downloading \"${filename}\": `;\n      div.appendChild(label);\n      const progress = document.createElement('progress');\n      progress.max = size;\n      div.appendChild(progress);\n      document.body.appendChild(div);\n\n      const buffers = [];\n      let downloaded = 0;\n\n      const channel = await google.colab.kernel.comms.open(id);\n      // Send a message to notify the kernel that we're ready.\n      channel.send({})\n\n      for await (const message of channel.messages) {\n        // Send a message to notify the kernel that we're ready.\n        channel.send({})\n        if (message.buffers) {\n          for (const buffer of message.buffers) {\n            buffers.push(buffer);\n            downloaded += buffer.byteLength;\n            progress.value = downloaded;\n          }\n        }\n      }\n      const blob = new Blob(buffers, {type: 'application/binary'});\n      const a = document.createElement('a');\n      a.href = window.URL.createObjectURL(blob);\n      a.download = filename;\n      div.appendChild(a);\n      a.click();\n      div.remove();\n    }\n  ",
            "text/plain": [
              "<IPython.core.display.Javascript object>"
            ]
          },
          "metadata": {},
          "output_type": "display_data"
        },
        {
          "data": {
            "application/javascript": "download(\"download_b5c26712-8359-4eef-84a8-63f8469b3f6d\", \"PAP221231107KEY_\\uace8\\ub4dc\\ucf54\\uc2a4\\ud2b8.xlsx\", 6291)",
            "text/plain": [
              "<IPython.core.display.Javascript object>"
            ]
          },
          "metadata": {},
          "output_type": "display_data"
        }
      ],
      "source": [
        "# @title main.py\n",
        "\n",
        "\n",
        "url = \"https://api.hanatour.com/svc/mciPkg/getPkgProdItnrInfo\"\n",
        "#url_tip_tc = \"https://api.hanatour.com/svc/mciPkg/getPkgProdInfo\"\n",
        "data = get_data(url, {\"pkgCd\": code})\n",
        "\n",
        "table = load_to_table(data,code)\n",
        "#print(new_separate_by_region(table,\"시드니\"))\n",
        "for region in location:\n",
        "  create_excel_file(new_separate_by_region(table,region),region,code)"
      ]
    },
    {
      "cell_type": "code",
      "execution_count": null,
      "metadata": {
        "id": "DLvvGtT9Dvs0"
      },
      "outputs": [],
      "source": []
    }
  ],
  "metadata": {
    "colab": {
      "collapsed_sections": [
        "LjtSgJkyE9_H"
      ],
      "provenance": []
    },
    "kernelspec": {
      "display_name": "Python 3",
      "name": "python3"
    },
    "language_info": {
      "name": "python"
    }
  },
  "nbformat": 4,
  "nbformat_minor": 0
}
